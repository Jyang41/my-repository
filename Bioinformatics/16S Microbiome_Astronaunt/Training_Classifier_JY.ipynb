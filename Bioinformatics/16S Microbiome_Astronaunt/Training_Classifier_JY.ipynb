{
 "cells": [
  {
   "cell_type": "code",
   "execution_count": null,
   "id": "b154cf54",
   "metadata": {
    "id": "b154cf54"
   },
   "outputs": [],
   "source": [
    "##Training a classifier using the backbone length sequence at greengenes2 and extracting reads specific to the v3-v4 region."
   ]
  },
  {
   "cell_type": "code",
   "execution_count": 1,
   "id": "162b096b",
   "metadata": {
    "id": "162b096b",
    "outputId": "1974b28a-765b-45fd-a823-44f7a0131db1"
   },
   "outputs": [
    {
     "name": "stdout",
     "output_type": "stream",
     "text": [
      "\u001b[32mSaved FeatureData[Sequence] to: gg2-ref-seqs.qza\u001b[0m\n",
      "\u001b[0m"
     ]
    }
   ],
   "source": [
    "!qiime feature-classifier extract-reads \\\n",
    "  --i-sequences 2022.10.backbone.full-length.fna.qza \\\n",
    "  --p-f-primer CCTACGGGNGGCWGCAG \\\n",
    "  --p-r-primer GACTACHVGGGTATCTAATCC \\\n",
    "  --p-min-length 400 \\\n",
    "  --p-max-length 500 \\\n",
    "  --o-reads gg2-ref-seqs.qza\n",
    "#p-trunc-len was removed based on the suggestion by the tutorial about unequal lengths for the paired end sequences.\n",
    "#The lengths for 400 and 500 were chosen as per the forum chat and suggestion of a relaxed interval or allowed amplicon size to not miss biologically relevant data:https://forum.qiime2.org/t/picking-values-for-p-min-length-and-p-max-length-in-qiime-feature-classifier-extract-reads/20912."
   ]
  },
  {
   "cell_type": "code",
   "execution_count": 2,
   "id": "d25b1383",
   "metadata": {
    "id": "d25b1383"
   },
   "outputs": [
    {
     "name": "stdout",
     "output_type": "stream",
     "text": [
      "\u001b[32mSaved TaxonomicClassifier to: classifier.qza\u001b[0m\n",
      "\u001b[0m"
     ]
    }
   ],
   "source": [
    "!qiime feature-classifier fit-classifier-naive-bayes \\\n",
    "  --i-reference-reads gg2-ref-seqs.qza \\\n",
    "  --i-reference-taxonomy 2022.10.backbone.tax.qza \\\n",
    "  --o-classifier classifier.qza"
   ]
  },
  {
   "cell_type": "code",
   "execution_count": 3,
   "id": "43ad53e6",
   "metadata": {
    "id": "43ad53e6",
    "outputId": "bb459410-c620-4a63-ecfd-7ffc1d61613b"
   },
   "outputs": [
    {
     "name": "stdout",
     "output_type": "stream",
     "text": [
      "\u001b[32mSaved FeatureData[Taxonomy] to: space_taxonomy.qza\u001b[0m\n",
      "\u001b[0m"
     ]
    }
   ],
   "source": [
    "!qiime feature-classifier classify-sklearn \\\n",
    "  --i-classifier classifier.qza \\\n",
    "  --i-reads space_paired.qza \\\n",
    "  --o-classification space_taxonomy.qza"
   ]
  },
  {
   "cell_type": "code",
   "execution_count": null,
   "id": "eb64de14",
   "metadata": {},
   "outputs": [],
   "source": [
    "# Taxa analysis"
   ]
  },
  {
   "cell_type": "code",
   "execution_count": 6,
   "id": "56da019d",
   "metadata": {
    "id": "56da019d"
   },
   "outputs": [
    {
     "name": "stdout",
     "output_type": "stream",
     "text": [
      "\u001b[32mSaved Visualization to: space_taxonomy.qzv\u001b[0m\r\n",
      "\u001b[0m"
     ]
    }
   ],
   "source": [
    "!qiime metadata tabulate \\\n",
    "  --m-input-file space_taxonomy.qza \\\n",
    "  --o-visualization space_taxonomy.qzv"
   ]
  },
  {
   "cell_type": "code",
   "execution_count": 7,
   "id": "59253084",
   "metadata": {},
   "outputs": [
    {
     "name": "stdout",
     "output_type": "stream",
     "text": [
      "\u001b[32mSaved Visualization to: space_taxa.barplot.qzv\u001b[0m\r\n",
      "\u001b[0m"
     ]
    }
   ],
   "source": [
    "!qiime taxa barplot \\\n",
    "  --i-table space_table.qza \\\n",
    "  --i-taxonomy space_taxonomy.qza \\\n",
    "  --m-metadata-file Metadata/space_tmp.tsv \\\n",
    "  --o-visualization space_taxa.barplot.qzv"
   ]
  },
  {
   "cell_type": "code",
   "execution_count": null,
   "id": "640ca2bd",
   "metadata": {},
   "outputs": [],
   "source": [
    "#phylogeny"
   ]
  },
  {
   "cell_type": "code",
   "execution_count": 1,
   "id": "fb5e06ff",
   "metadata": {},
   "outputs": [
    {
     "name": "stdout",
     "output_type": "stream",
     "text": [
      "\u001b[32mSaved FeatureData[AlignedSequence] to: aligned-space_paired.qza\u001b[0m\n",
      "\u001b[32mSaved FeatureData[AlignedSequence] to: masked-aligned-space_paired.qza\u001b[0m\n",
      "\u001b[32mSaved Phylogeny[Unrooted] to: space_unrooted-tree.qza\u001b[0m\n",
      "\u001b[32mSaved Phylogeny[Rooted] to: space_rooted-tree.qza\u001b[0m\n",
      "\u001b[0m"
     ]
    }
   ],
   "source": [
    "!qiime phylogeny align-to-tree-mafft-iqtree \\\n",
    "  --i-sequences space_paired.qza \\\n",
    "  --o-alignment aligned-space_paired.qza \\\n",
    "  --o-masked-alignment masked-aligned-space_paired.qza \\\n",
    "  --o-tree space_unrooted-tree.qza \\\n",
    "  --o-rooted-tree space_rooted-tree.qza \\\n",
    "  --p-alrt 1000 \\\n",
    "  --p-seed 42 \\\n",
    "  --p-n-threads 8"
   ]
  },
  {
   "cell_type": "code",
   "execution_count": null,
   "id": "9b685589",
   "metadata": {},
   "outputs": [],
   "source": [
    "#Creating a visualization, rarefile"
   ]
  },
  {
   "cell_type": "code",
   "execution_count": 3,
   "id": "67ebd355",
   "metadata": {
    "scrolled": false
   },
   "outputs": [
    {
     "name": "stdout",
     "output_type": "stream",
     "text": [
      "\u001b[32mSaved Visualization to: space_table.qzv\u001b[0m\r\n",
      "\u001b[0m"
     ]
    }
   ],
   "source": [
    "!qiime feature-table summarize \\\n",
    "  --i-table space_table.qza \\\n",
    "  --o-visualization space_table.qzv \\\n",
    "  --m-sample-metadata-file Metadata/space_tmp.tsv"
   ]
  },
  {
   "cell_type": "code",
   "execution_count": null,
   "id": "78653c80",
   "metadata": {},
   "outputs": [],
   "source": [
    "# Perform rare fraction on the feature table"
   ]
  },
  {
   "cell_type": "code",
   "execution_count": 4,
   "id": "00241750",
   "metadata": {},
   "outputs": [
    {
     "name": "stdout",
     "output_type": "stream",
     "text": [
      "\u001b[32mSaved FeatureTable[Frequency] to: space_rarefied_table.qza\u001b[0m\r\n",
      "\u001b[0m"
     ]
    }
   ],
   "source": [
    "!qiime feature-table rarefy \\\n",
    "  --i-table space_table.qza \\\n",
    "  --p-sampling-depth 4700 \\\n",
    "  --o-rarefied-table space_rarefied_table.qza"
   ]
  },
  {
   "cell_type": "code",
   "execution_count": 5,
   "id": "cf85ef39",
   "metadata": {},
   "outputs": [
    {
     "name": "stdout",
     "output_type": "stream",
     "text": [
      "\u001b[32mSaved Visualization to: space_rarefied_table.qzv\u001b[0m\r\n",
      "\u001b[0m"
     ]
    }
   ],
   "source": [
    "!qiime feature-table summarize \\\n",
    "  --i-table space_rarefied_table.qza \\\n",
    "  --o-visualization space_rarefied_table.qzv \\\n",
    "  --m-sample-metadata-file Metadata/space_tmp.tsv"
   ]
  },
  {
   "cell_type": "code",
   "execution_count": null,
   "id": "8c6ad8b0",
   "metadata": {},
   "outputs": [],
   "source": [
    "# Alpha diversity"
   ]
  },
  {
   "cell_type": "code",
   "execution_count": 6,
   "id": "01ddc116",
   "metadata": {},
   "outputs": [
    {
     "name": "stdout",
     "output_type": "stream",
     "text": [
      "\u001b[32mSaved SampleData[AlphaDiversity] to: space_shannon_vector.qza\u001b[0m\r\n",
      "\u001b[0m"
     ]
    }
   ],
   "source": [
    "!qiime diversity alpha \\\n",
    " --i-table space_rarefied_table.qza \\\n",
    " --p-metric shannon \\\n",
    " --o-alpha-diversity space_shannon_vector.qza"
   ]
  },
  {
   "cell_type": "code",
   "execution_count": 7,
   "id": "15a5c671",
   "metadata": {},
   "outputs": [
    {
     "name": "stdout",
     "output_type": "stream",
     "text": [
      "\u001b[32mSaved SampleData[AlphaDiversity] to: space_faith_pd_vector.qza\u001b[0m\r\n",
      "\u001b[0m"
     ]
    }
   ],
   "source": [
    "!qiime diversity alpha-phylogenetic \\\n",
    "  --i-table space_rarefied_table.qza \\\n",
    "  --i-phylogeny space_rooted-tree.qza \\\n",
    "  --p-metric faith_pd \\\n",
    "  --o-alpha-diversity space_faith_pd_vector.qza"
   ]
  },
  {
   "cell_type": "code",
   "execution_count": 8,
   "id": "8a205901",
   "metadata": {},
   "outputs": [
    {
     "name": "stdout",
     "output_type": "stream",
     "text": [
      "\u001b[32mExported space_shannon_vector.qza as AlphaDiversityDirectoryFormat to directory .\u001b[0m\r\n",
      "\u001b[0m"
     ]
    }
   ],
   "source": [
    "!qiime tools export --input-path space_shannon_vector.qza --output-path .\n",
    "!mv alpha-diversity.tsv space_shannon.tsv"
   ]
  },
  {
   "cell_type": "code",
   "execution_count": 1,
   "id": "603baeaa",
   "metadata": {},
   "outputs": [
    {
     "name": "stdout",
     "output_type": "stream",
     "text": [
      "\u001b[32mSaved Visualization to: space_alpha_rarefaction-1.qzv\u001b[0m\n",
      "\u001b[0m"
     ]
    }
   ],
   "source": [
    "!qiime diversity alpha-rarefaction \\\n",
    "  --i-table space_rarefied_table.qza \\\n",
    "  --i-phylogeny space_rooted-tree.qza \\\n",
    "  --p-max-depth 4700 \\\n",
    "  --m-metadata-file Metadata/space_tmp.tsv \\\n",
    "  --o-visualization space_alpha_rarefaction-1.qzv"
   ]
  },
  {
   "cell_type": "code",
   "execution_count": null,
   "id": "b41e6141",
   "metadata": {},
   "outputs": [],
   "source": [
    "# Alpha group significance by Kruskal-Wallis H test: \n",
    "# whether different groups of samples have different alpha diversity "
   ]
  },
  {
   "cell_type": "code",
   "execution_count": 10,
   "id": "6afef473",
   "metadata": {},
   "outputs": [
    {
     "name": "stdout",
     "output_type": "stream",
     "text": [
      "\u001b[32mSaved Visualization to: space_shannon_group_significance.qzv\u001b[0m\r\n",
      "\u001b[0m"
     ]
    }
   ],
   "source": [
    "!qiime diversity alpha-group-significance \\\n",
    "  --i-alpha-diversity space_shannon_vector.qza \\\n",
    "  --m-metadata-file Metadata/space_tmp.tsv \\\n",
    "  --o-visualization space_shannon_group_significance.qzv"
   ]
  },
  {
   "cell_type": "code",
   "execution_count": null,
   "id": "ce3b0c48",
   "metadata": {},
   "outputs": [],
   "source": [
    "# Beta diversity"
   ]
  },
  {
   "cell_type": "code",
   "execution_count": 11,
   "id": "91e6e438",
   "metadata": {},
   "outputs": [
    {
     "name": "stdout",
     "output_type": "stream",
     "text": [
      "\u001b[32mSaved DistanceMatrix to: space_weighted_unifrac_distance_matrix.qza\u001b[0m\r\n",
      "\u001b[0m"
     ]
    }
   ],
   "source": [
    "!qiime diversity beta-phylogenetic \\\n",
    "  --i-table space_rarefied_table.qza \\\n",
    "  --i-phylogeny space_rooted-tree.qza \\\n",
    "  --p-metric weighted_unifrac \\\n",
    "  --o-distance-matrix space_weighted_unifrac_distance_matrix.qza"
   ]
  },
  {
   "cell_type": "code",
   "execution_count": 12,
   "id": "b617ff2c",
   "metadata": {},
   "outputs": [
    {
     "name": "stdout",
     "output_type": "stream",
     "text": [
      "\u001b[32mExported space_weighted_unifrac_distance_matrix.qza as DistanceMatrixDirectoryFormat to directory .\u001b[0m\r\n",
      "\u001b[0m"
     ]
    }
   ],
   "source": [
    "!qiime tools export --input-path space_weighted_unifrac_distance_matrix.qza --output-path .\n",
    "!mv distance-matrix.tsv space_weighted_unifrac.tsv"
   ]
  },
  {
   "cell_type": "code",
   "execution_count": null,
   "id": "892bdad2",
   "metadata": {},
   "outputs": [],
   "source": [
    "# Beta group significance by Adonis test (analysis of variance using distance matrices:"
   ]
  },
  {
   "cell_type": "code",
   "execution_count": 13,
   "id": "0a848bd1",
   "metadata": {},
   "outputs": [],
   "source": [
    "!cat Metadata/space_tmp.tsv | tr -d '-' > space_metadata_rev.tsv"
   ]
  },
  {
   "cell_type": "code",
   "execution_count": 9,
   "id": "966c118e",
   "metadata": {},
   "outputs": [
    {
     "name": "stdout",
     "output_type": "stream",
     "text": [
      "\u001b[32mSaved Visualization to: space_weighted_unifrac_Time_adonis.qzv\u001b[0m\n",
      "\u001b[0m"
     ]
    }
   ],
   "source": [
    "!qiime diversity adonis \\\n",
    "  --i-distance-matrix space_weighted_unifrac_distance_matrix.qza \\\n",
    "  --m-metadata-file space_metadata_rev.tsv \\\n",
    "  --p-formula \"FactorValueTime\" \\\n",
    "  --o-visualization space_weighted_unifrac_Time_adonis.qzv"
   ]
  },
  {
   "cell_type": "code",
   "execution_count": null,
   "id": "41222c44",
   "metadata": {},
   "outputs": [],
   "source": [
    "# Ordination: to enhance the visualization their relationships"
   ]
  },
  {
   "cell_type": "code",
   "execution_count": null,
   "id": "1cb16ef1",
   "metadata": {},
   "outputs": [],
   "source": [
    "# 1. Principal Coordinates Analysis (PCoA) of beta diversity distance matrices"
   ]
  },
  {
   "cell_type": "code",
   "execution_count": 11,
   "id": "3f3e19f2",
   "metadata": {
    "scrolled": true
   },
   "outputs": [
    {
     "name": "stdout",
     "output_type": "stream",
     "text": [
      "\u001b[32mSaved PCoAResults to: space_weighted_unifrac_pcoa_results.qza\u001b[0m\r\n",
      "\u001b[0m"
     ]
    }
   ],
   "source": [
    "!qiime diversity pcoa \\\n",
    "  --i-distance-matrix space_weighted_unifrac_distance_matrix.qza \\\n",
    "  --o-pcoa space_weighted_unifrac_pcoa_results.qza"
   ]
  },
  {
   "cell_type": "code",
   "execution_count": null,
   "id": "3c20f729",
   "metadata": {},
   "outputs": [],
   "source": [
    "# 2. EMPeror: Interactive 3D scatter plots of PCoA results "
   ]
  },
  {
   "cell_type": "code",
   "execution_count": 17,
   "id": "5136f29f",
   "metadata": {},
   "outputs": [
    {
     "name": "stdout",
     "output_type": "stream",
     "text": [
      "\u001b[32mSaved Visualization to: space_weighted_unifrac_emperor.qzv\u001b[0m\r\n",
      "\u001b[0m"
     ]
    }
   ],
   "source": [
    "!qiime emperor plot \\\n",
    "  --i-pcoa space_weighted_unifrac_pcoa_results.qza \\\n",
    "  --m-metadata-file space_metadata_rev.tsv \\\n",
    "  --o-visualization space_weighted_unifrac_emperor.qzv"
   ]
  },
  {
   "cell_type": "code",
   "execution_count": 21,
   "id": "07d19ce2",
   "metadata": {},
   "outputs": [
    {
     "name": "stdout",
     "output_type": "stream",
     "text": [
      "\u001b[31m\u001b[1mPlugin error from emperor:\r\n",
      "\r\n",
      "  All values in a custom axis must be numeric, this summary shows the invalid values and the number of times they were found in column 'ParameterValue_SampleCollectionTimepoint':\r\n",
      "  90 days on ISS            10\r\n",
      "  10 days on ISS             8\r\n",
      "  landing day                8\r\n",
      "  60 days before launch      8\r\n",
      "  180 days after return      7\r\n",
      "  90 days before launch      6\r\n",
      "  60 days after return       6\r\n",
      "  18 days after return       5\r\n",
      "  180 days before launch     5\r\n",
      "  63 days after return       4\r\n",
      "  33 days after return       4\r\n",
      "  14 days before return      4\r\n",
      "  120 days before launch     3\r\n",
      "  30 days after return       3\r\n",
      "  240 days before launch     2\r\n",
      "  1 day before return        2\r\n",
      "  1 day after return         2\r\n",
      "  150 days before launch     1\r\n",
      "  7 days on ISS              1\r\n",
      "\r\n",
      "Debug info has been saved to /tmp/qiime2-q2cli-err-ycc8d90s.log\u001b[0m\r\n",
      "\u001b[0m"
     ]
    }
   ],
   "source": [
    "!qiime emperor plot \\\n",
    "  --i-pcoa space_weighted_unifrac_pcoa_results.qza \\\n",
    "  --m-metadata-file space_metadata_rev.tsv \\\n",
    "  --p-custom-axes ParameterValue_SampleCollectionTimepoint \\\n",
    "  --o-visualization space_weighted_unifrac_emperor_time.qzv"
   ]
  },
  {
   "cell_type": "code",
   "execution_count": null,
   "id": "730cfe93",
   "metadata": {},
   "outputs": [],
   "source": [
    "# 3. (dont need to do for microbiome) Beta rarefaction: to assess whether a desired sampling depth can grant stable measurements"
   ]
  },
  {
   "cell_type": "code",
   "execution_count": 28,
   "id": "2e204cf5",
   "metadata": {},
   "outputs": [
    {
     "name": "stdout",
     "output_type": "stream",
     "text": [
      "\u001b[31m\u001b[1mPlugin error from diversity:\n",
      "\n",
      "  Parameter 'metric' received 'space_weighted_unifrac' as an argument, which is incompatible with parameter type: Str % Choices('aitchison', 'braycurtis', 'canberra', 'canberra_adkins', 'chebyshev', 'cityblock', 'correlation', 'cosine', 'dice', 'euclidean', 'generalized_unifrac', 'hamming', 'jaccard', 'jensenshannon', 'kulsinski', 'matching', 'minkowski', 'rogerstanimoto', 'russellrao', 'seuclidean', 'sokalmichener', 'sokalsneath', 'sqeuclidean', 'unweighted_unifrac', 'weighted_normalized_unifrac', 'weighted_unifrac', 'yule')\n",
      "\n",
      "Debug info has been saved to /tmp/qiime2-q2cli-err-0rm4ivg6.log\u001b[0m\n",
      "\u001b[0m"
     ]
    }
   ],
   "source": [
    "!qiime diversity beta-rarefaction \\\n",
    "  --i-table space_table.qza \\\n",
    "  --i-phylogeny space_rooted-tree.qza \\\n",
    "  --p-metric space_weighted_unifrac \\\n",
    "  --p-clustering-method nj \\\n",
    "  --p-sampling-depth 1103 \\\n",
    "  --m-metadata-file Metadata/space_tmp.tsv \\\n",
    "  --o-visualization space_weighted_unifrac_rarefaction.qzv"
   ]
  },
  {
   "cell_type": "code",
   "execution_count": null,
   "id": "e9319995",
   "metadata": {},
   "outputs": [],
   "source": [
    "# 4. PCoA biplot: \n",
    "# reveal which features (taxonomic units) are driven the separation of sample clusters on which axes."
   ]
  },
  {
   "cell_type": "code",
   "execution_count": null,
   "id": "78e5c0a3",
   "metadata": {},
   "outputs": [],
   "source": [
    "# normalize feature counts into relative abundances"
   ]
  },
  {
   "cell_type": "code",
   "execution_count": 24,
   "id": "ca95486f",
   "metadata": {},
   "outputs": [
    {
     "name": "stdout",
     "output_type": "stream",
     "text": [
      "\u001b[32mSaved FeatureTable[RelativeFrequency] to: space_relative_table.qza\u001b[0m\r\n",
      "\u001b[0m"
     ]
    }
   ],
   "source": [
    "!qiime feature-table relative-frequency \\\n",
    "  --i-table space_rarefied_table.qza \\\n",
    "  --o-relative-frequency-table space_relative_table.qza"
   ]
  },
  {
   "cell_type": "code",
   "execution_count": null,
   "id": "e33b1313",
   "metadata": {},
   "outputs": [],
   "source": [
    "#  add features onto a PCoA"
   ]
  },
  {
   "cell_type": "code",
   "execution_count": 25,
   "id": "485c7729",
   "metadata": {},
   "outputs": [
    {
     "name": "stdout",
     "output_type": "stream",
     "text": [
      "\u001b[32mSaved PCoAResults % Properties('biplot') to: space_weighted_unifrac_pcoa_biplot.qza\u001b[0m\r\n",
      "\u001b[0m"
     ]
    }
   ],
   "source": [
    "!qiime diversity pcoa-biplot \\\n",
    "  --i-pcoa space_weighted_unifrac_pcoa_results.qza \\\n",
    "  --i-features space_relative_table.qza \\\n",
    "  --o-biplot space_weighted_unifrac_pcoa_biplot.qza"
   ]
  },
  {
   "cell_type": "code",
   "execution_count": null,
   "id": "6e7a03a1",
   "metadata": {},
   "outputs": [],
   "source": [
    "# generate an interactive visualization using the biplot command. \n",
    "# Note that the feature metadata is the taxonomy"
   ]
  },
  {
   "cell_type": "code",
   "execution_count": 27,
   "id": "351a4858",
   "metadata": {},
   "outputs": [
    {
     "name": "stdout",
     "output_type": "stream",
     "text": [
      "\u001b[32mSaved Visualization to: space_weighted_unifrac_emperor_biplot.qzv\u001b[0m\r\n",
      "\u001b[0m"
     ]
    }
   ],
   "source": [
    "!qiime emperor biplot \\\n",
    "  --i-biplot space_weighted_unifrac_pcoa_biplot.qza \\\n",
    "  --m-sample-metadata-file Metadata/space_tmp.tsv \\\n",
    "  --m-feature-metadata-file space_taxonomy.qza \\\n",
    "  --o-visualization space_weighted_unifrac_emperor_biplot.qzv"
   ]
  },
  {
   "cell_type": "code",
   "execution_count": null,
   "id": "92bcff85",
   "metadata": {},
   "outputs": [],
   "source": [
    "# To do Next\n",
    "# Differential abundance- clr transform, ALDEX2\n",
    "# PiCRUST: Very end when we have time, PCoA bioplot"
   ]
  },
  {
   "cell_type": "code",
   "execution_count": null,
   "id": "f52fd6d2",
   "metadata": {},
   "outputs": [],
   "source": []
  }
 ],
 "metadata": {
  "colab": {
   "provenance": []
  },
  "kernelspec": {
   "display_name": "Python 3 (ipykernel)",
   "language": "python",
   "name": "python3"
  },
  "language_info": {
   "codemirror_mode": {
    "name": "ipython",
    "version": 3
   },
   "file_extension": ".py",
   "mimetype": "text/x-python",
   "name": "python",
   "nbconvert_exporter": "python",
   "pygments_lexer": "ipython3",
   "version": "3.8.15"
  }
 },
 "nbformat": 4,
 "nbformat_minor": 5
}
