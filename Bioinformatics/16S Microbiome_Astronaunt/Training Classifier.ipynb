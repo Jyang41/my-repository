{
 "cells": [
  {
   "cell_type": "code",
   "execution_count": null,
   "id": "b154cf54",
   "metadata": {},
   "outputs": [],
   "source": [
    "##Training a classifier using the backbone length sequence at greengenes2 and extracting reads specific to the v3-v4 region."
   ]
  },
  {
   "cell_type": "code",
   "execution_count": 5,
   "id": "162b096b",
   "metadata": {},
   "outputs": [
    {
     "name": "stdout",
     "output_type": "stream",
     "text": [
      "\u001b[32mSaved FeatureData[Sequence] to: gg2-ref-seqs.qza\u001b[0m\r\n",
      "\u001b[0m"
     ]
    }
   ],
   "source": [
    "!qiime feature-classifier extract-reads \\\n",
    "  --i-sequences 2022.10.backbone.full-length.fna.qza \\\n",
    "  --p-f-primer CCTACGGGNGGCWGCAG \\\n",
    "  --p-r-primer GACTACHVGGGTATCTAATCC \\\n",
    "  --p-min-length 400 \\\n",
    "  --p-max-length 500 \\\n",
    "  --o-reads gg2-ref-seqs.qza\n",
    "#p-trunc-len was removed based on the suggestion by the tutorial about unequal lengths for the paired end sequences.\n",
    "#The lengths for 400 and 500 were chosen as per the forum chat and suggestion of a relaxed interval or allowed amplicon size to not miss biologically relevant data:https://forum.qiime2.org/t/picking-values-for-p-min-length-and-p-max-length-in-qiime-feature-classifier-extract-reads/20912."
   ]
  },
  {
   "cell_type": "code",
   "execution_count": 6,
   "id": "d25b1383",
   "metadata": {},
   "outputs": [],
   "source": [
    "!qiime feature-classifier fit-classifier-naive-bayes \\\n",
    "  --i-reference-reads gg2-ref-seqs.qza \\\n",
    "  --i-reference-taxonomy 2022.10.backbone.tax.qza \\\n",
    "  --o-classifier classifier.qza\n"
   ]
  },
  {
   "cell_type": "code",
   "execution_count": 7,
   "id": "43ad53e6",
   "metadata": {},
   "outputs": [
    {
     "name": "stdout",
     "output_type": "stream",
     "text": [
      "Usage: \u001b[94mqiime feature-classifier classify-sklearn\u001b[0m [OPTIONS]\n",
      "\n",
      "  Classify reads by taxon using a fitted classifier.\n",
      "\n",
      "\u001b[1mInputs\u001b[0m:\n",
      "  \u001b[94m\u001b[4m--i-reads\u001b[0m ARTIFACT \u001b[32mFeatureData[Sequence]\u001b[0m\n",
      "                         The feature data to be classified.         \u001b[35m[required]\u001b[0m\n",
      "  \u001b[94m\u001b[4m--i-classifier\u001b[0m ARTIFACT\n",
      "    \u001b[32mTaxonomicClassifier\u001b[0m  The taxonomic classifier for classifying the reads.\n",
      "                                                                    \u001b[35m[required]\u001b[0m\n",
      "\u001b[1mParameters\u001b[0m:\n",
      "  \u001b[94m--p-reads-per-batch\u001b[0m VALUE \u001b[32mInt % Range(1, None) | Str % Choices('auto')\u001b[0m\n",
      "                         Number of reads to process in each batch. If \"auto\",\n",
      "                         this parameter is autoscaled to min( number of query\n",
      "                         sequences / \u001b[4mn-jobs\u001b[0m, 20000).         \u001b[35m[default: 'auto']\u001b[0m\n",
      "  \u001b[94m--p-n-jobs\u001b[0m INTEGER     The maximum number of concurrently worker processes.\n",
      "                         If -1 all CPUs are used. If 1 is given, no parallel\n",
      "                         computing code is used at all, which is useful for\n",
      "                         debugging. For \u001b[4mn-jobs\u001b[0m below -1, (n_cpus + 1 + \u001b[4mn-jobs\u001b[0m)\n",
      "                         are used. Thus for \u001b[4mn-jobs\u001b[0m = -2, all CPUs but one are\n",
      "                         used.                                    \u001b[35m[default: 1]\u001b[0m\n",
      "  \u001b[94m--p-pre-dispatch\u001b[0m TEXT  \"all\" or expression, as in \"3*n_jobs\". The number of\n",
      "                         batches (of tasks) to be pre-dispatched.\n",
      "                                                         \u001b[35m[default: '2*n_jobs']\u001b[0m\n",
      "  \u001b[94m--p-confidence\u001b[0m VALUE \u001b[32mFloat % Range(0, 1, inclusive_end=True) | Str %\u001b[0m\n",
      "    \u001b[32mChoices('disable')\u001b[0m   Confidence threshold for limiting taxonomic depth.\n",
      "                         Set to \"disable\" to disable confidence calculation,\n",
      "                         or 0 to calculate confidence but not apply it to\n",
      "                         limit the taxonomic depth of the assignments.\n",
      "                                                                \u001b[35m[default: 0.7]\u001b[0m\n",
      "  \u001b[94m--p-read-orientation\u001b[0m TEXT \u001b[32mChoices('same', 'reverse-complement', 'auto')\u001b[0m\n",
      "                         Direction of reads with respect to reference\n",
      "                         sequences. same will cause reads to be classified\n",
      "                         unchanged; reverse-complement will cause reads to be\n",
      "                         reversed and complemented prior to classification.\n",
      "                         \"auto\" will autodetect orientation based on the\n",
      "                         confidence estimates for the first 100 reads.\n",
      "                                                             \u001b[35m[default: 'auto']\u001b[0m\n",
      "\u001b[1mOutputs\u001b[0m:\n",
      "  \u001b[94m\u001b[4m--o-classification\u001b[0m ARTIFACT \u001b[32mFeatureData[Taxonomy]\u001b[0m\n",
      "                                                                    \u001b[35m[required]\u001b[0m\n",
      "\u001b[1mMiscellaneous\u001b[0m:\n",
      "  \u001b[94m--output-dir\u001b[0m PATH      Output unspecified results to a directory\n",
      "  \u001b[94m--verbose\u001b[0m / \u001b[94m--quiet\u001b[0m    Display verbose output to stdout and/or stderr\n",
      "                         during execution of this action. Or silence output if\n",
      "                         execution is successful (silence is golden).\n",
      "  \u001b[94m--example-data\u001b[0m PATH    Write example data and exit.\n",
      "  \u001b[94m--citations\u001b[0m            Show citations and exit.\n",
      "  \u001b[94m--help\u001b[0m                 Show this message and exit.\n",
      "\n",
      "\u001b[33m                    There was a problem with the command:                     \u001b[0m\n",
      "\u001b[31m\u001b[1m (1/1) Invalid value for '--i-classifier': classifier.qza does not exist.\u001b[0m\n",
      "\u001b[0m"
     ]
    }
   ],
   "source": [
    "!qiime feature-classifier classify-sklearn \\\n",
    "  --i-classifier classifier.qza \\\n",
    "  --i-reads space_paired.qza \\\n",
    "  --o-classification space_taxonomy.qza\n"
   ]
  },
  {
   "cell_type": "code",
   "execution_count": null,
   "id": "56da019d",
   "metadata": {},
   "outputs": [],
   "source": [
    "!qiime metadata tabulate \\\n",
    "  --m-input-file taxonomy.qza \\\n",
    "  --o-visualization taxonomy.qzv"
   ]
  }
 ],
 "metadata": {
  "kernelspec": {
   "display_name": "Python 3 (ipykernel)",
   "language": "python",
   "name": "python3"
  },
  "language_info": {
   "codemirror_mode": {
    "name": "ipython",
    "version": 3
   },
   "file_extension": ".py",
   "mimetype": "text/x-python",
   "name": "python",
   "nbconvert_exporter": "python",
   "pygments_lexer": "ipython3",
   "version": "3.8.15"
  }
 },
 "nbformat": 4,
 "nbformat_minor": 5
}
