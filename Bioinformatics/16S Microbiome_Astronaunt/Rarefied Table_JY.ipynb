{
 "cells": [
  {
   "cell_type": "code",
   "execution_count": null,
   "id": "1158b6e9",
   "metadata": {},
   "outputs": [],
   "source": [
    "##Creating a visualtion of the table not rarefied."
   ]
  },
  {
   "cell_type": "code",
   "execution_count": 8,
   "id": "6d972797",
   "metadata": {},
   "outputs": [
    {
     "name": "stdout",
     "output_type": "stream",
     "text": [
      "\u001b[32mSaved Visualization to: space_table.qzv\u001b[0m\r\n",
      "\u001b[0m"
     ]
    }
   ],
   "source": [
    "!qiime feature-table summarize \\\n",
    "  --i-table space_table.qza \\\n",
    "  --o-visualization space_table.qzv \\\n",
    "  --m-sample-metadata-file space_tmp.tsv"
   ]
  },
  {
   "cell_type": "code",
   "execution_count": null,
   "id": "b857a785",
   "metadata": {},
   "outputs": [],
   "source": [
    "#Differential Abundance.\n",
    "#Testing for both genus and species."
   ]
  },
  {
   "cell_type": "code",
   "execution_count": 9,
   "id": "7f0f84fc",
   "metadata": {},
   "outputs": [
    {
     "name": "stdout",
     "output_type": "stream",
     "text": [
      "Saved FeatureTable[Frequency] to: l5.qza\n",
      "Saved FeatureTable[Frequency] to: l6.qza\n",
      "Saved FeatureTable[Frequency] to: l7.qza\n"
     ]
    }
   ],
   "source": [
    "\n",
    "%%bash\n",
    "for i in {5,6,7}; do\n",
    "  qiime taxa collapse \\\n",
    "    --i-table space_table.qza \\\n",
    "    --i-taxonomy space_taxonomy.qza \\\n",
    "    --p-level $i \\\n",
    "    --o-collapsed-table l$i.qza\n",
    "done"
   ]
  },
  {
   "cell_type": "code",
   "execution_count": 10,
   "id": "2ec69da7",
   "metadata": {},
   "outputs": [
    {
     "name": "stdout",
     "output_type": "stream",
     "text": [
      "Saved Visualization to: l5.qzv\n",
      "Saved Visualization to: l6.qzv\n",
      "Saved Visualization to: l7.qzv\n"
     ]
    }
   ],
   "source": [
    "%%bash\n",
    "for i in {5,6,7}; do\n",
    "  qiime feature-table summarize \\\n",
    "    --i-table l$i.qza \\\n",
    "    --o-visualization l$i.qzv \\\n",
    "    --m-sample-metadata-file space_tmp.tsv\n",
    "done\n",
    "    "
   ]
  },
  {
   "cell_type": "code",
   "execution_count": 12,
   "id": "f19ec846",
   "metadata": {},
   "outputs": [],
   "source": [
    "!cat space_tmp.tsv | tr -d '-' |  tr -d ' ' | tr -d ':' > space_tmp_rev.tsv"
   ]
  },
  {
   "cell_type": "code",
   "execution_count": 13,
   "id": "f5cc7506",
   "metadata": {},
   "outputs": [
    {
     "name": "stdout",
     "output_type": "stream",
     "text": [
      "sampleid\tFactorValueTime\tParameterValueSampleCollectionTimepoint\tParameterValueSampleStorageTemperature\r\n",
      "SRR8985933\tpreflight\t240daysbeforelaunch\t80degreeCelsius\r\n",
      "SRR8985934\tpreflight\t240daysbeforelaunch\t80degreeCelsius\r\n",
      "SRR8985931\tpreflight\t180daysbeforelaunch\t80degreeCelsius\r\n",
      "SRR8985932\tpreflight\t90daysbeforelaunch\t80degreeCelsius\r\n",
      "SRR8985929\tpreflight\t60daysbeforelaunch\t80degreeCelsius\r\n",
      "SRR8985930\tduringflight\t7daysonISS\t80degreeCelsius\r\n",
      "SRR8985927\tduringflight\t90daysonISS\t80degreeCelsius\r\n",
      "SRR8985928\tduringflight\t14daysbeforereturn\t80degreeCelsius\r\n",
      "SRR8985935\tduringflight\t1daybeforereturn\t80degreeCelsius\r\n"
     ]
    }
   ],
   "source": [
    "!head space_tmp_rev.tsv"
   ]
  },
  {
   "cell_type": "code",
   "execution_count": 14,
   "id": "07be5bd5",
   "metadata": {},
   "outputs": [],
   "source": [
    "!sed -i 's/notapplicable/control/g' space_tmp_rev.tsv"
   ]
  },
  {
   "cell_type": "code",
   "execution_count": 15,
   "id": "9d55ab05",
   "metadata": {},
   "outputs": [
    {
     "name": "stdout",
     "output_type": "stream",
     "text": [
      "SRR8985971\tduringflight\t10daysonISS\t80degreeCelsius\r\n",
      "SRR8985974\tduringflight\t90daysonISS\t80degreeCelsius\r\n",
      "SRR8985973\tpostflight\t1dayafterreturn\t80degreeCelsius\r\n",
      "SRR8985968\tpostflight\t18daysafterreturn\t80degreeCelsius\r\n",
      "SRR8985967\tpostflight\t60daysafterreturn\t80degreeCelsius\r\n",
      "SRR8985970\tpreflight\t60daysbeforelaunch\t80degreeCelsius\r\n",
      "SRR8985969\tduringflight\t90daysonISS\t80degreeCelsius\r\n",
      "SRR8985976\tpostflight\t180daysafterreturn\t80degreeCelsius\r\n",
      "SRR8985975\tcontrol\tcontrol\t80degreeCelsius\r\n",
      "SRR8985896\tcontrol\tcontrol\t80degreeCelsius\r\n"
     ]
    }
   ],
   "source": [
    "!tail space_tmp_rev.tsv"
   ]
  },
  {
   "cell_type": "code",
   "execution_count": 16,
   "id": "0606c297",
   "metadata": {},
   "outputs": [
    {
     "name": "stdout",
     "output_type": "stream",
     "text": [
      "^C\r\n",
      "\r\n",
      "Aborted!\r\n",
      "\u001b[0m"
     ]
    }
   ],
   "source": [
    "#!qiime composition ancombc \\\n",
    "  #--i-table l6.qza \\\n",
    "  #--m-metadata-file space_tmp_rev.tsv \\\n",
    "  #--p-formula FactorValueTime \\\n",
    "  #--o-differentials ancombc_space_time_l6.qza"
   ]
  },
  {
   "cell_type": "code",
   "execution_count": 17,
   "id": "8eb308bc",
   "metadata": {},
   "outputs": [
    {
     "name": "stdout",
     "output_type": "stream",
     "text": [
      "\u001b[32mSaved FeatureData[DifferentialAbundance] to: ancombc_space_time_l5.qza\u001b[0m\r\n",
      "\u001b[0m"
     ]
    }
   ],
   "source": [
    "!qiime composition ancombc \\\n",
    "  --i-table l5.qza \\\n",
    "  --m-metadata-file space_tmp_rev.tsv \\\n",
    "  --p-reference-levels FactorValueTime::control \\\n",
    "  --p-formula FactorValueTime \\\n",
    "  --o-differentials ancombc_space_time_l5.qza"
   ]
  },
  {
   "cell_type": "code",
   "execution_count": 19,
   "id": "2b55d757",
   "metadata": {},
   "outputs": [
    {
     "name": "stdout",
     "output_type": "stream",
     "text": [
      "\u001b[32mSaved Visualization to: ancombc_space_time_l6.qzv\u001b[0m\n",
      "\u001b[0m"
     ]
    }
   ],
   "source": [
    "#!qiime composition tabulate \\\n",
    "  #--i-data ancombc_space_time_l6.qza \\\n",
    "  #--o-visualization ancombc_space_time_l6.qzv"
   ]
  },
  {
   "cell_type": "code",
   "execution_count": 18,
   "id": "7c0b4d6d",
   "metadata": {},
   "outputs": [
    {
     "name": "stdout",
     "output_type": "stream",
     "text": [
      "\u001b[32mSaved Visualization to: ancombc_space_time_l5.qzv\u001b[0m\r\n",
      "\u001b[0m"
     ]
    }
   ],
   "source": [
    "!qiime composition tabulate \\\n",
    "  --i-data ancombc_space_time_l5.qza \\\n",
    "  --o-visualization ancombc_space_time_l5.qzv"
   ]
  },
  {
   "cell_type": "code",
   "execution_count": 19,
   "id": "92d3cd1b",
   "metadata": {},
   "outputs": [
    {
     "name": "stdout",
     "output_type": "stream",
     "text": [
      "\u001b[32mSaved Visualization to: ancombc_space_time_l5_barplot.qzv\u001b[0m\r\n",
      "\u001b[0m"
     ]
    }
   ],
   "source": [
    "!qiime composition da-barplot \\\n",
    "  --i-data ancombc_space_time_l5.qza \\\n",
    "  --o-visualization ancombc_space_time_l5_barplot.qzv"
   ]
  },
  {
   "cell_type": "code",
   "execution_count": null,
   "id": "b17b4c1d",
   "metadata": {},
   "outputs": [],
   "source": [
    "##Trying to get files for Aldex2"
   ]
  },
  {
   "cell_type": "code",
   "execution_count": 17,
   "id": "f1236944",
   "metadata": {},
   "outputs": [
    {
     "name": "stdout",
     "output_type": "stream",
     "text": [
      "/bin/bash: line 1: unzip: command not found\r\n"
     ]
    }
   ],
   "source": [
    "#Converting the space_rarified_table file from to a tsv for aldex2\n",
    "!mv space_rarefied_table.qzv space_rarefied_table.zip\n",
    "!unzip space_rarified_table.zip"
   ]
  },
  {
   "cell_type": "code",
   "execution_count": 2,
   "id": "c8f09177",
   "metadata": {},
   "outputs": [
    {
     "name": "stdout",
     "output_type": "stream",
     "text": [
      "\u001b[31m\u001b[1mError: QIIME 2 has no plugin/command named 'aldex2'.\u001b[0m\r\n"
     ]
    }
   ],
   "source": [
    "!qiime aldex2 aldex2 \\\n",
    "    --i-table space_table.qza \\\n",
    "    --m-metadata-file space_tmp.tsv \\\n",
    "    --p-condition FactorValueTime \\\n",
    "    --output-dir gut-test"
   ]
  },
  {
   "cell_type": "code",
   "execution_count": 3,
   "id": "6b4fab4e",
   "metadata": {},
   "outputs": [
    {
     "name": "stdout",
     "output_type": "stream",
     "text": [
      "\u001b[32mExported space_table.qza as BIOMV210DirFmt to directory .\u001b[0m\r\n",
      "\u001b[0m"
     ]
    }
   ],
   "source": [
    "!qiime tools export --input-path space_table.qza --output-path ."
   ]
  },
  {
   "cell_type": "code",
   "execution_count": 4,
   "id": "fb0ec039",
   "metadata": {},
   "outputs": [
    {
     "name": "stdout",
     "output_type": "stream",
     "text": [
      "# Constructed from biom file\r\n",
      "#OTU ID\tSRR8985886\tSRR8985887\tSRR8985888\tSRR8985889\tSRR8985890\r\n",
      "66ed1073ae2ec3f7ceb18c1fead98c8c\t23211.0\t12656.0\t29396.0\t12074.0\t20599.0\r\n",
      "fb87a3997e913f1a8d7a94dffde98934\t330.0\t691.0\t12.0\t156.0\t262.0\r\n",
      "51317c71f55b0686db48a456121d02ad\t1585.0\t720.0\t129.0\t1219.0\t5628.0\r\n",
      "24b5e60e77b075d9b04cc142731f2352\t181.0\t0.0\t0.0\t17.0\t205.0\r\n",
      "f12890d3fe553e560eeefb6d428de8fc\t7331.0\t2107.0\t6607.0\t7626.0\t731.0\r\n"
     ]
    }
   ],
   "source": [
    "!biom head -i feature-table.biom"
   ]
  },
  {
   "cell_type": "code",
   "execution_count": 5,
   "id": "784f499f",
   "metadata": {},
   "outputs": [],
   "source": [
    "!biom convert --to-tsv -i feature-table.biom -o space_table_aldex2.tsv"
   ]
  },
  {
   "cell_type": "code",
   "execution_count": 6,
   "id": "116009c4",
   "metadata": {},
   "outputs": [
    {
     "name": "stdout",
     "output_type": "stream",
     "text": [
      "# Constructed from biom file\r\n",
      "#OTU ID\tSRR8985886\tSRR8985887\tSRR8985888\tSRR8985889\tSRR8985890\tSRR8985891\tSRR8985892\tSRR8985893\tSRR8985894\tSRR8985895\tSRR8985896\tSRR8985897\tSRR8985898\tSRR8985899\tSRR8985900\tSRR8985901\tSRR8985902\tSRR8985903\tSRR8985904\tSRR8985905\tSRR8985906\tSRR8985907\tSRR8985908\tSRR8985909\tSRR8985910\tSRR8985911\tSRR8985912\tSRR8985913\tSRR8985914\tSRR8985915\tSRR8985916\tSRR8985917\tSRR8985918\tSRR8985919\tSRR8985920\tSRR8985921\tSRR8985922\tSRR8985923\tSRR8985924\tSRR8985925\tSRR8985926\tSRR8985927\tSRR8985928\tSRR8985929\tSRR8985930\tSRR8985931\tSRR8985932\tSRR8985933\tSRR8985934\tSRR8985935\tSRR8985936\tSRR8985937\tSRR8985938\tSRR8985939\tSRR8985940\tSRR8985941\tSRR8985942\tSRR8985943\tSRR8985944\tSRR8985945\tSRR8985946\tSRR8985947\tSRR8985948\tSRR8985949\tSRR8985950\tSRR8985951\tSRR8985952\tSRR8985953\tSRR8985954\tSRR8985955\tSRR8985956\tSRR8985957\tSRR8985958\tSRR8985959\tSRR8985960\tSRR8985961\tSRR8985962\tSRR8985963\tSRR8985964\tSRR8985965\tSRR8985966\tSRR8985967\tSRR8985968\tSRR8985969\tSRR8985970\tSRR8985971\tSRR8985972\tSRR8985973\tSRR8985974\tSRR8985975\tSRR8985976\r\n",
      "66ed1073ae2ec3f7ceb18c1fead98c8c\t23211.0\t12656.0\t29396.0\t12074.0\t20599.0\t799.0\t22452.0\t25281.0\t9938.0\t13527.0\t121.0\t55573.0\t67285.0\t64373.0\t51304.0\t5743.0\t2512.0\t66681.0\t84450.0\t69839.0\t108840.0\t8031.0\t23262.0\t13346.0\t16008.0\t52595.0\t59383.0\t63410.0\t10814.0\t12568.0\t12702.0\t7047.0\t5566.0\t12132.0\t20313.0\t21241.0\t13140.0\t20809.0\t15502.0\t15080.0\t25585.0\t31693.0\t30102.0\t51846.0\t36449.0\t32165.0\t54455.0\t44864.0\t47626.0\t8209.0\t18786.0\t19716.0\t17326.0\t28151.0\t29913.0\t9846.0\t18729.0\t33607.0\t6935.0\t18648.0\t27191.0\t5677.0\t12981.0\t574.0\t4753.0\t12901.0\t19451.0\t7201.0\t12549.0\t3292.0\t7046.0\t3503.0\t13678.0\t12303.0\t15881.0\t17515.0\t12339.0\t22127.0\t13052.0\t15049.0\t11197.0\t10449.0\t7680.0\t38085.0\t16909.0\t19852.0\t16448.0\t13206.0\t15055.0\t225.0\t43922.0\r\n",
      "fb87a3997e913f1a8d7a94dffde98934\t330.0\t691.0\t12.0\t156.0\t262.0\t80.0\t284.0\t135.0\t1031.0\t140.0\t24.0\t107.0\t4704.0\t284.0\t661.0\t3777.0\t122.0\t186.0\t4982.0\t279.0\t733.0\t1868.0\t2594.0\t4960.0\t2179.0\t2072.0\t408.0\t349.0\t6243.0\t1772.0\t947.0\t5614.0\t1802.0\t351.0\t2109.0\t355.0\t167.0\t2229.0\t310.0\t9287.0\t4513.0\t2909.0\t2443.0\t336.0\t601.0\t2576.0\t247.0\t366.0\t150.0\t1420.0\t1032.0\t384.0\t711.0\t227.0\t842.0\t2002.0\t1442.0\t2161.0\t491.0\t0.0\t0.0\t1901.0\t501.0\t174.0\t130.0\t690.0\t1099.0\t2167.0\t145.0\t434.0\t1777.0\t563.0\t1493.0\t3085.0\t3470.0\t2205.0\t6048.0\t11966.0\t15626.0\t2202.0\t4689.0\t18875.0\t701.0\t4214.0\t11798.0\t12024.0\t8886.0\t15944.0\t23470.0\t0.0\t1552.0\r\n",
      "51317c71f55b0686db48a456121d02ad\t1585.0\t720.0\t129.0\t1219.0\t5628.0\t54.0\t3147.0\t1753.0\t1103.0\t1284.0\t15.0\t6770.0\t5185.0\t3500.0\t4239.0\t1113.0\t1117.0\t1194.0\t2850.0\t2299.0\t4791.0\t1341.0\t1927.0\t687.0\t1707.0\t2932.0\t3395.0\t6356.0\t967.0\t582.0\t520.0\t950.0\t1362.0\t2502.0\t3673.0\t6408.0\t1402.0\t4311.0\t2937.0\t7638.0\t7377.0\t4500.0\t3351.0\t3602.0\t6107.0\t4288.0\t11855.0\t3490.0\t3747.0\t1269.0\t1949.0\t3109.0\t11189.0\t4947.0\t4942.0\t199.0\t10218.0\t5504.0\t141.0\t5731.0\t1581.0\t501.0\t2559.0\t153.0\t500.0\t715.0\t316.0\t58.0\t408.0\t727.0\t1143.0\t494.0\t2640.0\t3390.0\t2222.0\t952.0\t1194.0\t1735.0\t1459.0\t919.0\t1254.0\t1773.0\t724.0\t2386.0\t1118.0\t1880.0\t1948.0\t1094.0\t2791.0\t16.0\t3549.0\r\n",
      "24b5e60e77b075d9b04cc142731f2352\t181.0\t0.0\t0.0\t17.0\t205.0\t0.0\t122.0\t54.0\t1098.0\t35.0\t35.0\t54.0\t3532.0\t84.0\t1531.0\t16.0\t0.0\t64.0\t2513.0\t186.0\t297.0\t654.0\t23.0\t28.0\t541.0\t1323.0\t248.0\t272.0\t104.0\t199.0\t280.0\t3510.0\t1707.0\t498.0\t1890.0\t657.0\t37.0\t4576.0\t2170.0\t22258.0\t6816.0\t987.0\t1607.0\t47.0\t399.0\t0.0\t20.0\t59.0\t0.0\t774.0\t47.0\t5604.0\t2292.0\t1037.0\t8284.0\t51.0\t13.0\t10323.0\t0.0\t15.0\t0.0\t13.0\t0.0\t0.0\t0.0\t98.0\t49.0\t1141.0\t66.0\t33.0\t50.0\t19.0\t17.0\t1832.0\t3845.0\t4375.0\t2995.0\t3873.0\t8113.0\t23.0\t642.0\t669.0\t179.0\t6699.0\t8774.0\t28384.0\t3483.0\t1020.0\t62009.0\t0.0\t560.0\r\n",
      "f12890d3fe553e560eeefb6d428de8fc\t7331.0\t2107.0\t6607.0\t7626.0\t731.0\t649.0\t534.0\t514.0\t346.0\t278.0\t0.0\t3536.0\t2271.0\t9874.0\t9680.0\t194.0\t95.0\t4158.0\t7021.0\t4405.0\t3386.0\t1075.0\t1898.0\t1098.0\t1180.0\t2305.0\t1860.0\t2322.0\t790.0\t1426.0\t497.0\t249.0\t353.0\t1379.0\t1057.0\t2520.0\t3019.0\t727.0\t1718.0\t2311.0\t1922.0\t1036.0\t913.0\t2403.0\t1475.0\t647.0\t918.0\t749.0\t496.0\t477.0\t498.0\t1411.0\t831.0\t3747.0\t1209.0\t234.0\t420.0\t1586.0\t349.0\t147.0\t265.0\t2016.0\t4179.0\t255.0\t9701.0\t1225.0\t3655.0\t6246.0\t8119.0\t1577.0\t2485.0\t921.0\t3152.0\t827.0\t460.0\t416.0\t258.0\t842.0\t352.0\t1552.0\t1054.0\t4893.0\t8463.0\t1059.0\t4337.0\t5257.0\t2783.0\t9337.0\t3872.0\t17.0\t4062.0\r\n",
      "ca819604fa2fab4b50b581f8238ac3ee\t11888.0\t9017.0\t8556.0\t2384.0\t286.0\t406.0\t823.0\t600.0\t664.0\t457.0\t0.0\t125.0\t0.0\t769.0\t2430.0\t0.0\t7.0\t133.0\t34.0\t122.0\t39.0\t92.0\t19.0\t0.0\t28.0\t0.0\t0.0\t24.0\t0.0\t43.0\t86.0\t30.0\t212.0\t2446.0\t922.0\t3651.0\t1934.0\t126.0\t1803.0\t630.0\t582.0\t1293.0\t384.0\t6477.0\t3037.0\t3246.0\t2130.0\t1787.0\t1736.0\t389.0\t1016.0\t1880.0\t727.0\t3400.0\t1502.0\t0.0\t0.0\t847.0\t0.0\t21.0\t0.0\t1791.0\t1276.0\t282.0\t3743.0\t270.0\t8236.0\t11111.0\t22873.0\t1122.0\t1411.0\t632.0\t296.0\t185.0\t69.0\t26.0\t145.0\t981.0\t386.0\t852.0\t570.0\t6017.0\t6200.0\t800.0\t0.0\t16480.0\t4558.0\t8046.0\t5150.0\t0.0\t2677.0\r\n",
      "e1b14e6114084d17a3e4bb59747ec150\t1311.0\t329.0\t59.0\t130.0\t0.0\t32.0\t0.0\t0.0\t0.0\t0.0\t0.0\t311.0\t6062.0\t1758.0\t5036.0\t37.0\t0.0\t1129.0\t3182.0\t1737.0\t675.0\t335.0\t135.0\t33.0\t192.0\t1486.0\t827.0\t470.0\t597.0\t109.0\t207.0\t764.0\t443.0\t2620.0\t416.0\t5106.0\t1409.0\t1896.0\t7664.0\t4296.0\t10725.0\t52.0\t161.0\t0.0\t0.0\t0.0\t0.0\t0.0\t0.0\t0.0\t0.0\t14288.0\t8023.0\t3458.0\t6786.0\t26.0\t27.0\t4658.0\t0.0\t0.0\t0.0\t0.0\t15.0\t0.0\t33.0\t380.0\t179.0\t133.0\t1968.0\t100.0\t83.0\t19.0\t120.0\t599.0\t224.0\t670.0\t319.0\t2073.0\t1670.0\t1050.0\t822.0\t16945.0\t5839.0\t1584.0\t3100.0\t16427.0\t3145.0\t10422.0\t13677.0\t0.0\t4172.0\r\n",
      "388c4e4e282556c3526f4c92902210b8\t3823.0\t438.0\t2936.0\t1011.0\t1674.0\t483.0\t560.0\t961.0\t1979.0\t247.0\t22.0\t152.0\t485.0\t2047.0\t5076.0\t262.0\t62.0\t899.0\t179.0\t392.0\t649.0\t181.0\t1286.0\t257.0\t3522.0\t90.0\t88.0\t285.0\t262.0\t799.0\t3648.0\t35.0\t122.0\t633.0\t352.0\t4607.0\t3256.0\t267.0\t2150.0\t498.0\t2533.0\t1912.0\t1130.0\t6836.0\t1428.0\t6849.0\t1325.0\t3744.0\t7348.0\t757.0\t3137.0\t6135.0\t2063.0\t2518.0\t4804.0\t97.0\t58.0\t3864.0\t125.0\t91.0\t825.0\t2490.0\t1271.0\t1039.0\t1105.0\t855.0\t1586.0\t3876.0\t1866.0\t1014.0\t4329.0\t961.0\t2481.0\t121.0\t30.0\t80.0\t109.0\t610.0\t663.0\t143.0\t434.0\t4902.0\t2166.0\t1385.0\t1472.0\t21619.0\t1976.0\t3815.0\t4611.0\t33.0\t4848.0\r\n"
     ]
    }
   ],
   "source": [
    "!head space_table_aldex2.tsv \n"
   ]
  },
  {
   "cell_type": "code",
   "execution_count": null,
   "id": "c4ce1410",
   "metadata": {},
   "outputs": [],
   "source": [
    "###PiCrust2 using qiime2-2023.2"
   ]
  },
  {
   "cell_type": "code",
   "execution_count": 20,
   "id": "1d766573",
   "metadata": {},
   "outputs": [
    {
     "name": "stdout",
     "output_type": "stream",
     "text": [
      "\n",
      "Error running this command:\n",
      "place_seqs.py --study_fasta /tmp/tmpp5o503u7/seqs.fna --ref_dir /home/akohli/miniconda3/envs/qiime2-2023.2/lib/python3.8/site-packages/picrust2/default_files/prokaryotic/pro_ref --out_tree /tmp/tmpp5o503u7/picrust2_out/out.tre --processes 1 --intermediate /tmp/tmpp5o503u7/picrust2_out/intermediate/place_seqs --min_align 0.8 --chunk_size 5000 --placement_tool sepp\n",
      "\n",
      "Standard error of the above failed command:\n",
      "Warning - 34 input sequences aligned poorly to reference sequences (--min_align option specified a minimum proportion of 0.8 aligning to reference sequences). These input sequences will not be placed and will be excluded from downstream steps.\n",
      "\n",
      "This is the set of poorly aligned input sequences to be excluded: 49f4bc4d21d4615a9169459ef725d7d2, c96ddec7af942cdc923351532c8c009e, e06af796530a1344925b81947249c413, 2aa9f176f492a49c40491bb2ad1c5aca, 6d6c7608746157016af6027720d91681, 64bb9a42bfb2e8556a8c07eb5e2373a0, bf791beab203fbeabcb8ab4baa112083, 86519efa58697bb1415b2ee0087d5edb, 4d650ef2e802715d4d75b8fc9668fee4, b5a70baed1395a029245f4c80a77274e, d4fdb18725b48ae6ae9ca1204227fdee, fd5fd877581701f0c228759261048e2c, dfa82426d204dab1b0f14e62eba03d20, 94af3b5a5612b05b7d6ac1a8ce972d13, 15f8aa3866f0af077e009b3764dbf70b, ee797b944bdff1f17ca3753e266bffa6, ca713cad23ade4d800f643576efd513e, 01bf62132ee488de7d5a15823d79a0f6, 98a4ad0bfbba161f9a3bb6b1fb7db4ef, f6279f08253374eb01817e9a8db7b7c5, 783f5a98e18e1e89df8469174480acf4, 0eed2a29e22dfa673b4b45013075f0a7, 27cb8340e5610e9a55207077b3f210da, 9c08cb70c3fc5a6b7aaf607dac4d2096, dd08cfe729d0718ccbab8635ccdbdb31, d2bca3a108a14b89a64654544886cfdf, 9aace55fb996a960ddf3c2473a2942cb, 1159f7ad6cc15d6813ec606cd33c74a2, ee8abcbf6d400bddcb3e40ea46a5a8bf, 7990005bbc41c29b3199d569f99aff41, cdd4e2c074553bd2d5e2497116d921c0, 10cf41f3d64dbba73e9e860089f57e53, fd63f1bb3b8184498a8211f067138c3c, 724d13c74f7b4bf368c80e4b20e743e1\n",
      "\n",
      "\n",
      "Error running this command:\n",
      "run_sepp.py --tree /home/akohli/miniconda3/envs/qiime2-2023.2/lib/python3.8/site-packages/picrust2/default_files/prokaryotic/pro_ref/pro_ref.tre --raxml /home/akohli/miniconda3/envs/qiime2-2023.2/lib/python3.8/site-packages/picrust2/default_files/prokaryotic/pro_ref/pro_ref.raxml_info --cpu 1 --molecule dna --outdir /tmp/tmpp5o503u7/picrust2_out/intermediate/place_seqs/sepp_out -seed 297834 --alignment /home/akohli/miniconda3/envs/qiime2-2023.2/lib/python3.8/site-packages/picrust2/default_files/prokaryotic/pro_ref/pro_ref.fna --fragment /tmp/tmpp5o503u7/picrust2_out/intermediate/place_seqs/study_seqs_filtered.fasta\n",
      "\n",
      "Standard error of the above failed command:\n",
      "[17:52:35] config.py (line 349):     INFO: Seed number: 297834\n",
      "[17:52:35] algorithm.py (line 258):     INFO: Reading input alignment: <_io.TextIOWrapper name='/home/akohli/miniconda3/envs/qiime2-2023.2/lib/python3.8/site-packages/picrust2/default_files/prokaryotic/pro_ref/pro_ref.fna' mode='r' encoding='UTF-8'>\n",
      "[17:52:35] algorithm.py (line 265):     INFO: Reading input tree: <_io.TextIOWrapper name='/home/akohli/miniconda3/envs/qiime2-2023.2/lib/python3.8/site-packages/picrust2/default_files/prokaryotic/pro_ref/pro_ref.tre' mode='r' encoding='UTF-8'>\n",
      "[17:52:36] algorithm.py (line 238):     INFO: Decomposition Sizes are set to alignment: 2000 placement: 2000\n",
      "[17:52:38] exhaustive.py (line 350):     INFO: Breaking into 16 placement subsets.\n",
      "[17:52:39] exhaustive.py (line 397):     INFO: Breaking into 16 alignment subsets.\n",
      "[17:52:39] filemgr.py (line 129):     INFO: Root temp directory built: /tmp/sepp/output.c8pwe7do\n",
      "[17:52:39] exhaustive.py (line 412):     INFO: Breaking each alignment subset into 1 fragment chunks.\n",
      "[17:52:39] jobs.py (line 131):     INFO: Finished hmmbuild Job with input: /tmp/sepp/output.c8pwe7do/root/P_0/A_0_0/hmmbuild.input.by2s56hr.fasta\n",
      "[17:52:39] jobs.py (line 131):     INFO: Finished hmmbuild Job with input: /tmp/sepp/output.c8pwe7do/root/P_1/A_1_0/hmmbuild.input.x8db2q4y.fasta\n",
      "[17:52:40] jobs.py (line 131):     INFO: Finished hmmbuild Job with input: /tmp/sepp/output.c8pwe7do/root/P_2/A_2_0/hmmbuild.input.exygj8h5.fasta\n",
      "[17:52:40] jobs.py (line 131):     INFO: Finished hmmbuild Job with input: /tmp/sepp/output.c8pwe7do/root/P_3/A_3_0/hmmbuild.input.yj8b1yp3.fasta\n",
      "[17:52:40] jobs.py (line 131):     INFO: Finished hmmbuild Job with input: /tmp/sepp/output.c8pwe7do/root/P_4/A_4_0/hmmbuild.input.u2ovnp6p.fasta\n",
      "[17:52:40] jobs.py (line 131):     INFO: Finished hmmbuild Job with input: /tmp/sepp/output.c8pwe7do/root/P_5/A_5_0/hmmbuild.input.ejl9hwai.fasta\n",
      "[17:52:41] jobs.py (line 131):     INFO: Finished hmmbuild Job with input: /tmp/sepp/output.c8pwe7do/root/P_6/A_6_0/hmmbuild.input.kaij2jh6.fasta\n",
      "[17:52:41] jobs.py (line 131):     INFO: Finished hmmbuild Job with input: /tmp/sepp/output.c8pwe7do/root/P_7/A_7_0/hmmbuild.input.bvfy7py2.fasta\n",
      "[17:52:41] jobs.py (line 131):     INFO: Finished hmmbuild Job with input: /tmp/sepp/output.c8pwe7do/root/P_8/A_8_0/hmmbuild.input.abqjostg.fasta\n",
      "[17:52:41] jobs.py (line 131):     INFO: Finished hmmbuild Job with input: /tmp/sepp/output.c8pwe7do/root/P_9/A_9_0/hmmbuild.input.fnrvkn7w.fasta\n",
      "[17:52:42] jobs.py (line 131):     INFO: Finished hmmbuild Job with input: /tmp/sepp/output.c8pwe7do/root/P_10/A_10_0/hmmbuild.input.dw4zqbve.fasta\n",
      "[17:52:42] jobs.py (line 131):     INFO: Finished hmmbuild Job with input: /tmp/sepp/output.c8pwe7do/root/P_11/A_11_0/hmmbuild.input.n1vpkb3k.fasta\n",
      "[17:52:42] jobs.py (line 131):     INFO: Finished hmmbuild Job with input: /tmp/sepp/output.c8pwe7do/root/P_12/A_12_0/hmmbuild.input.uhr0woy3.fasta\n",
      "[17:52:42] jobs.py (line 131):     INFO: Finished hmmbuild Job with input: /tmp/sepp/output.c8pwe7do/root/P_13/A_13_0/hmmbuild.input.0imoikaf.fasta\n",
      "[17:52:43] jobs.py (line 131):     INFO: Finished hmmbuild Job with input: /tmp/sepp/output.c8pwe7do/root/P_14/A_14_0/hmmbuild.input._9i48i8j.fasta\n",
      "[17:52:43] jobs.py (line 131):     INFO: Finished hmmbuild Job with input: /tmp/sepp/output.c8pwe7do/root/P_15/A_15_0/hmmbuild.input.3k7dx5vv.fasta\n",
      "[17:53:01] jobs.py (line 131):     INFO: Finished hmmsearch Job with input: model:/tmp/sepp/output.c8pwe7do/root/P_0/A_0_0/hmmbuild.model.gdy23zpi, fragments:/tmp/sepp/output.c8pwe7do/fragment_chunks/fragment_chunk_0_movdn5d.fasta, elim:99999999, filter:False, output:/tmp/sepp/output.c8pwe7do/root/P_0/A_0_0/FC_0_0_0/hmmsearch.results.tlrxi9or\n",
      "[17:53:18] jobs.py (line 131):     INFO: Finished hmmsearch Job with input: model:/tmp/sepp/output.c8pwe7do/root/P_1/A_1_0/hmmbuild.model._f_5xyih, fragments:/tmp/sepp/output.c8pwe7do/fragment_chunks/fragment_chunk_0_movdn5d.fasta, elim:99999999, filter:False, output:/tmp/sepp/output.c8pwe7do/root/P_1/A_1_0/FC_1_0_0/hmmsearch.results.hxrpcepa\n",
      "[17:53:37] jobs.py (line 131):     INFO: Finished hmmsearch Job with input: model:/tmp/sepp/output.c8pwe7do/root/P_2/A_2_0/hmmbuild.model.n0yxr6aa, fragments:/tmp/sepp/output.c8pwe7do/fragment_chunks/fragment_chunk_0_movdn5d.fasta, elim:99999999, filter:False, output:/tmp/sepp/output.c8pwe7do/root/P_2/A_2_0/FC_2_0_0/hmmsearch.results.c9vj135s\n",
      "[17:53:57] jobs.py (line 131):     INFO: Finished hmmsearch Job with input: model:/tmp/sepp/output.c8pwe7do/root/P_3/A_3_0/hmmbuild.model.icnbwng7, fragments:/tmp/sepp/output.c8pwe7do/fragment_chunks/fragment_chunk_0_movdn5d.fasta, elim:99999999, filter:False, output:/tmp/sepp/output.c8pwe7do/root/P_3/A_3_0/FC_3_0_0/hmmsearch.results.hmyehfl7\n",
      "[17:54:16] jobs.py (line 131):     INFO: Finished hmmsearch Job with input: model:/tmp/sepp/output.c8pwe7do/root/P_4/A_4_0/hmmbuild.model.f8oqm3ag, fragments:/tmp/sepp/output.c8pwe7do/fragment_chunks/fragment_chunk_0_movdn5d.fasta, elim:99999999, filter:False, output:/tmp/sepp/output.c8pwe7do/root/P_4/A_4_0/FC_4_0_0/hmmsearch.results.werkk5_e\n",
      "[17:54:35] jobs.py (line 131):     INFO: Finished hmmsearch Job with input: model:/tmp/sepp/output.c8pwe7do/root/P_5/A_5_0/hmmbuild.model.6b22ahn2, fragments:/tmp/sepp/output.c8pwe7do/fragment_chunks/fragment_chunk_0_movdn5d.fasta, elim:99999999, filter:False, output:/tmp/sepp/output.c8pwe7do/root/P_5/A_5_0/FC_5_0_0/hmmsearch.results.u9bhpus6\n",
      "[17:54:54] jobs.py (line 131):     INFO: Finished hmmsearch Job with input: model:/tmp/sepp/output.c8pwe7do/root/P_6/A_6_0/hmmbuild.model.1_6xbkxs, fragments:/tmp/sepp/output.c8pwe7do/fragment_chunks/fragment_chunk_0_movdn5d.fasta, elim:99999999, filter:False, output:/tmp/sepp/output.c8pwe7do/root/P_6/A_6_0/FC_6_0_0/hmmsearch.results.5svqd2dn\n",
      "[17:55:13] jobs.py (line 131):     INFO: Finished hmmsearch Job with input: model:/tmp/sepp/output.c8pwe7do/root/P_7/A_7_0/hmmbuild.model.q7lqwxd9, fragments:/tmp/sepp/output.c8pwe7do/fragment_chunks/fragment_chunk_0_movdn5d.fasta, elim:99999999, filter:False, output:/tmp/sepp/output.c8pwe7do/root/P_7/A_7_0/FC_7_0_0/hmmsearch.results.coazh4pt\n",
      "[17:55:32] jobs.py (line 131):     INFO: Finished hmmsearch Job with input: model:/tmp/sepp/output.c8pwe7do/root/P_8/A_8_0/hmmbuild.model.mtrqpb8p, fragments:/tmp/sepp/output.c8pwe7do/fragment_chunks/fragment_chunk_0_movdn5d.fasta, elim:99999999, filter:False, output:/tmp/sepp/output.c8pwe7do/root/P_8/A_8_0/FC_8_0_0/hmmsearch.results.drgibqss\n",
      "[17:55:52] jobs.py (line 131):     INFO: Finished hmmsearch Job with input: model:/tmp/sepp/output.c8pwe7do/root/P_9/A_9_0/hmmbuild.model.obzwnei_, fragments:/tmp/sepp/output.c8pwe7do/fragment_chunks/fragment_chunk_0_movdn5d.fasta, elim:99999999, filter:False, output:/tmp/sepp/output.c8pwe7do/root/P_9/A_9_0/FC_9_0_0/hmmsearch.results.1ro6yvf0\n",
      "[17:56:12] jobs.py (line 131):     INFO: Finished hmmsearch Job with input: model:/tmp/sepp/output.c8pwe7do/root/P_10/A_10_0/hmmbuild.model.k8jewbjs, fragments:/tmp/sepp/output.c8pwe7do/fragment_chunks/fragment_chunk_0_movdn5d.fasta, elim:99999999, filter:False, output:/tmp/sepp/output.c8pwe7do/root/P_10/A_10_0/FC_10_0_0/hmmsearch.results.aeeud1x1\n",
      "[17:56:31] jobs.py (line 131):     INFO: Finished hmmsearch Job with input: model:/tmp/sepp/output.c8pwe7do/root/P_11/A_11_0/hmmbuild.model.kb2_hnp_, fragments:/tmp/sepp/output.c8pwe7do/fragment_chunks/fragment_chunk_0_movdn5d.fasta, elim:99999999, filter:False, output:/tmp/sepp/output.c8pwe7do/root/P_11/A_11_0/FC_11_0_0/hmmsearch.results.9uz1yony\n",
      "[17:56:49] jobs.py (line 131):     INFO: Finished hmmsearch Job with input: model:/tmp/sepp/output.c8pwe7do/root/P_12/A_12_0/hmmbuild.model.sfef8_i1, fragments:/tmp/sepp/output.c8pwe7do/fragment_chunks/fragment_chunk_0_movdn5d.fasta, elim:99999999, filter:False, output:/tmp/sepp/output.c8pwe7do/root/P_12/A_12_0/FC_12_0_0/hmmsearch.results.o66mdd0y\n",
      "[17:57:08] jobs.py (line 131):     INFO: Finished hmmsearch Job with input: model:/tmp/sepp/output.c8pwe7do/root/P_13/A_13_0/hmmbuild.model.9fw04_o2, fragments:/tmp/sepp/output.c8pwe7do/fragment_chunks/fragment_chunk_0_movdn5d.fasta, elim:99999999, filter:False, output:/tmp/sepp/output.c8pwe7do/root/P_13/A_13_0/FC_13_0_0/hmmsearch.results.pvg2yyqj\n",
      "[17:57:28] jobs.py (line 131):     INFO: Finished hmmsearch Job with input: model:/tmp/sepp/output.c8pwe7do/root/P_14/A_14_0/hmmbuild.model.nkh6eeth, fragments:/tmp/sepp/output.c8pwe7do/fragment_chunks/fragment_chunk_0_movdn5d.fasta, elim:99999999, filter:False, output:/tmp/sepp/output.c8pwe7do/root/P_14/A_14_0/FC_14_0_0/hmmsearch.results.wr90pllt\n",
      "[17:57:47] jobs.py (line 131):     INFO: Finished hmmsearch Job with input: model:/tmp/sepp/output.c8pwe7do/root/P_15/A_15_0/hmmbuild.model.r1uqlzvf, fragments:/tmp/sepp/output.c8pwe7do/fragment_chunks/fragment_chunk_0_movdn5d.fasta, elim:99999999, filter:False, output:/tmp/sepp/output.c8pwe7do/root/P_15/A_15_0/FC_15_0_0/hmmsearch.results.4iq81bpx\n",
      "[17:57:47] exhaustive.py (line 80):  WARNING: Fragments [] are not scored against any subset\n",
      "[17:57:47] exhaustive.py (line 151):     INFO: Merging sub-alignments for placement problem : P_0.\n",
      "[17:57:49] jobs.py (line 131):     INFO: Finished hmmalign Job with input: model:/tmp/sepp/output.c8pwe7do/root/P_1/A_1_0/hmmbuild.model._f_5xyih, fragments:/tmp/sepp/output.c8pwe7do/root/P_1/A_1_0/FC_1_0_0/hmmalign.frag.zh2bkn0o.fasta, trim:False, base_alignment:/tmp/sepp/output.c8pwe7do/root/P_1/A_1_0/hmmbuild.input.x8db2q4y.fasta\n",
      "[17:57:49] exhaustive.py (line 151):     INFO: Merging sub-alignments for placement problem : P_1.\n",
      "[17:57:49] alignment.py (line 556):     INFO: Merging extension sto file (/tmp/sepp/output.c8pwe7do/root/P_1/A_1_0/FC_1_0_0/hmmalign.results.xiv3zwij) into base alignment (/tmp/sepp/output.c8pwe7do/root/P_1/A_1_0/hmmbuild.input.x8db2q4y.fasta).\n",
      "[17:57:51] jobs.py (line 131):     INFO: Finished hmmalign Job with input: model:/tmp/sepp/output.c8pwe7do/root/P_2/A_2_0/hmmbuild.model.n0yxr6aa, fragments:/tmp/sepp/output.c8pwe7do/root/P_2/A_2_0/FC_2_0_0/hmmalign.frag.1pg3wgkj.fasta, trim:False, base_alignment:/tmp/sepp/output.c8pwe7do/root/P_2/A_2_0/hmmbuild.input.exygj8h5.fasta\n",
      "[17:57:51] exhaustive.py (line 151):     INFO: Merging sub-alignments for placement problem : P_2.\n",
      "[17:57:51] alignment.py (line 556):     INFO: Merging extension sto file (/tmp/sepp/output.c8pwe7do/root/P_2/A_2_0/FC_2_0_0/hmmalign.results.01khaqow) into base alignment (/tmp/sepp/output.c8pwe7do/root/P_2/A_2_0/hmmbuild.input.exygj8h5.fasta).\n",
      "[17:57:52] jobs.py (line 131):     INFO: Finished hmmalign Job with input: model:/tmp/sepp/output.c8pwe7do/root/P_3/A_3_0/hmmbuild.model.icnbwng7, fragments:/tmp/sepp/output.c8pwe7do/root/P_3/A_3_0/FC_3_0_0/hmmalign.frag.0gtkwubs.fasta, trim:False, base_alignment:/tmp/sepp/output.c8pwe7do/root/P_3/A_3_0/hmmbuild.input.yj8b1yp3.fasta\n",
      "[17:57:52] exhaustive.py (line 151):     INFO: Merging sub-alignments for placement problem : P_3.\n",
      "[17:57:52] alignment.py (line 556):     INFO: Merging extension sto file (/tmp/sepp/output.c8pwe7do/root/P_3/A_3_0/FC_3_0_0/hmmalign.results.ya2fm2d7) into base alignment (/tmp/sepp/output.c8pwe7do/root/P_3/A_3_0/hmmbuild.input.yj8b1yp3.fasta).\n",
      "[17:57:53] jobs.py (line 131):     INFO: Finished hmmalign Job with input: model:/tmp/sepp/output.c8pwe7do/root/P_4/A_4_0/hmmbuild.model.f8oqm3ag, fragments:/tmp/sepp/output.c8pwe7do/root/P_4/A_4_0/FC_4_0_0/hmmalign.frag.txsckvyi.fasta, trim:False, base_alignment:/tmp/sepp/output.c8pwe7do/root/P_4/A_4_0/hmmbuild.input.u2ovnp6p.fasta\n",
      "[17:57:53] exhaustive.py (line 151):     INFO: Merging sub-alignments for placement problem : P_4.\n",
      "[17:57:53] alignment.py (line 556):     INFO: Merging extension sto file (/tmp/sepp/output.c8pwe7do/root/P_4/A_4_0/FC_4_0_0/hmmalign.results.knk95mh2) into base alignment (/tmp/sepp/output.c8pwe7do/root/P_4/A_4_0/hmmbuild.input.u2ovnp6p.fasta).\n",
      "[17:57:54] jobs.py (line 131):     INFO: Finished hmmalign Job with input: model:/tmp/sepp/output.c8pwe7do/root/P_5/A_5_0/hmmbuild.model.6b22ahn2, fragments:/tmp/sepp/output.c8pwe7do/root/P_5/A_5_0/FC_5_0_0/hmmalign.frag.ysmg55sg.fasta, trim:False, base_alignment:/tmp/sepp/output.c8pwe7do/root/P_5/A_5_0/hmmbuild.input.ejl9hwai.fasta\n",
      "[17:57:54] exhaustive.py (line 151):     INFO: Merging sub-alignments for placement problem : P_5.\n",
      "[17:57:54] alignment.py (line 556):     INFO: Merging extension sto file (/tmp/sepp/output.c8pwe7do/root/P_5/A_5_0/FC_5_0_0/hmmalign.results.9jwvgc5p) into base alignment (/tmp/sepp/output.c8pwe7do/root/P_5/A_5_0/hmmbuild.input.ejl9hwai.fasta).\n",
      "[17:57:55] jobs.py (line 131):     INFO: Finished hmmalign Job with input: model:/tmp/sepp/output.c8pwe7do/root/P_6/A_6_0/hmmbuild.model.1_6xbkxs, fragments:/tmp/sepp/output.c8pwe7do/root/P_6/A_6_0/FC_6_0_0/hmmalign.frag.hogyxtxi.fasta, trim:False, base_alignment:/tmp/sepp/output.c8pwe7do/root/P_6/A_6_0/hmmbuild.input.kaij2jh6.fasta\n",
      "[17:57:55] exhaustive.py (line 151):     INFO: Merging sub-alignments for placement problem : P_6.\n",
      "[17:57:55] alignment.py (line 556):     INFO: Merging extension sto file (/tmp/sepp/output.c8pwe7do/root/P_6/A_6_0/FC_6_0_0/hmmalign.results.8fjdjzne) into base alignment (/tmp/sepp/output.c8pwe7do/root/P_6/A_6_0/hmmbuild.input.kaij2jh6.fasta).\n",
      "[17:58:00] jobs.py (line 131):     INFO: Finished hmmalign Job with input: model:/tmp/sepp/output.c8pwe7do/root/P_7/A_7_0/hmmbuild.model.q7lqwxd9, fragments:/tmp/sepp/output.c8pwe7do/root/P_7/A_7_0/FC_7_0_0/hmmalign.frag.ocu979ca.fasta, trim:False, base_alignment:/tmp/sepp/output.c8pwe7do/root/P_7/A_7_0/hmmbuild.input.bvfy7py2.fasta\n",
      "[17:58:00] exhaustive.py (line 151):     INFO: Merging sub-alignments for placement problem : P_7.\n",
      "[17:58:00] alignment.py (line 556):     INFO: Merging extension sto file (/tmp/sepp/output.c8pwe7do/root/P_7/A_7_0/FC_7_0_0/hmmalign.results.jn7oqu7h) into base alignment (/tmp/sepp/output.c8pwe7do/root/P_7/A_7_0/hmmbuild.input.bvfy7py2.fasta).\n",
      "[17:58:04] jobs.py (line 131):     INFO: Finished hmmalign Job with input: model:/tmp/sepp/output.c8pwe7do/root/P_8/A_8_0/hmmbuild.model.mtrqpb8p, fragments:/tmp/sepp/output.c8pwe7do/root/P_8/A_8_0/FC_8_0_0/hmmalign.frag.0ze0tl7t.fasta, trim:False, base_alignment:/tmp/sepp/output.c8pwe7do/root/P_8/A_8_0/hmmbuild.input.abqjostg.fasta\n",
      "[17:58:04] exhaustive.py (line 151):     INFO: Merging sub-alignments for placement problem : P_8.\n",
      "[17:58:04] alignment.py (line 556):     INFO: Merging extension sto file (/tmp/sepp/output.c8pwe7do/root/P_8/A_8_0/FC_8_0_0/hmmalign.results.b7wwezd_) into base alignment (/tmp/sepp/output.c8pwe7do/root/P_8/A_8_0/hmmbuild.input.abqjostg.fasta).\n",
      "[17:58:07] jobs.py (line 131):     INFO: Finished hmmalign Job with input: model:/tmp/sepp/output.c8pwe7do/root/P_9/A_9_0/hmmbuild.model.obzwnei_, fragments:/tmp/sepp/output.c8pwe7do/root/P_9/A_9_0/FC_9_0_0/hmmalign.frag.6jxa7viv.fasta, trim:False, base_alignment:/tmp/sepp/output.c8pwe7do/root/P_9/A_9_0/hmmbuild.input.fnrvkn7w.fasta\n",
      "[17:58:07] exhaustive.py (line 151):     INFO: Merging sub-alignments for placement problem : P_9.\n",
      "[17:58:07] alignment.py (line 556):     INFO: Merging extension sto file (/tmp/sepp/output.c8pwe7do/root/P_9/A_9_0/FC_9_0_0/hmmalign.results.1j68hx4i) into base alignment (/tmp/sepp/output.c8pwe7do/root/P_9/A_9_0/hmmbuild.input.fnrvkn7w.fasta).\n",
      "[17:58:12] jobs.py (line 131):     INFO: Finished hmmalign Job with input: model:/tmp/sepp/output.c8pwe7do/root/P_10/A_10_0/hmmbuild.model.k8jewbjs, fragments:/tmp/sepp/output.c8pwe7do/root/P_10/A_10_0/FC_10_0_0/hmmalign.frag.7wu5iaku.fasta, trim:False, base_alignment:/tmp/sepp/output.c8pwe7do/root/P_10/A_10_0/hmmbuild.input.dw4zqbve.fasta\n",
      "[17:58:12] exhaustive.py (line 151):     INFO: Merging sub-alignments for placement problem : P_10.\n",
      "[17:58:12] alignment.py (line 556):     INFO: Merging extension sto file (/tmp/sepp/output.c8pwe7do/root/P_10/A_10_0/FC_10_0_0/hmmalign.results.ng5z9ss1) into base alignment (/tmp/sepp/output.c8pwe7do/root/P_10/A_10_0/hmmbuild.input.dw4zqbve.fasta).\n",
      "[17:58:29] jobs.py (line 131):     INFO: Finished hmmalign Job with input: model:/tmp/sepp/output.c8pwe7do/root/P_11/A_11_0/hmmbuild.model.kb2_hnp_, fragments:/tmp/sepp/output.c8pwe7do/root/P_11/A_11_0/FC_11_0_0/hmmalign.frag.c7ex2h5y.fasta, trim:False, base_alignment:/tmp/sepp/output.c8pwe7do/root/P_11/A_11_0/hmmbuild.input.n1vpkb3k.fasta\n",
      "[17:58:29] exhaustive.py (line 151):     INFO: Merging sub-alignments for placement problem : P_11.\n",
      "[17:58:29] alignment.py (line 556):     INFO: Merging extension sto file (/tmp/sepp/output.c8pwe7do/root/P_11/A_11_0/FC_11_0_0/hmmalign.results._wrnfqd7) into base alignment (/tmp/sepp/output.c8pwe7do/root/P_11/A_11_0/hmmbuild.input.n1vpkb3k.fasta).\n",
      "[17:58:49] jobs.py (line 131):     INFO: Finished hmmalign Job with input: model:/tmp/sepp/output.c8pwe7do/root/P_12/A_12_0/hmmbuild.model.sfef8_i1, fragments:/tmp/sepp/output.c8pwe7do/root/P_12/A_12_0/FC_12_0_0/hmmalign.frag.n75ryyd5.fasta, trim:False, base_alignment:/tmp/sepp/output.c8pwe7do/root/P_12/A_12_0/hmmbuild.input.uhr0woy3.fasta\n",
      "[17:58:49] exhaustive.py (line 151):     INFO: Merging sub-alignments for placement problem : P_12.\n",
      "[17:58:49] alignment.py (line 556):     INFO: Merging extension sto file (/tmp/sepp/output.c8pwe7do/root/P_12/A_12_0/FC_12_0_0/hmmalign.results._tpqppbv) into base alignment (/tmp/sepp/output.c8pwe7do/root/P_12/A_12_0/hmmbuild.input.uhr0woy3.fasta).\n",
      "[17:58:55] jobs.py (line 131):     INFO: Finished hmmalign Job with input: model:/tmp/sepp/output.c8pwe7do/root/P_13/A_13_0/hmmbuild.model.9fw04_o2, fragments:/tmp/sepp/output.c8pwe7do/root/P_13/A_13_0/FC_13_0_0/hmmalign.frag.eksjctp7.fasta, trim:False, base_alignment:/tmp/sepp/output.c8pwe7do/root/P_13/A_13_0/hmmbuild.input.0imoikaf.fasta\n",
      "[17:58:55] exhaustive.py (line 151):     INFO: Merging sub-alignments for placement problem : P_13.\n",
      "[17:58:55] alignment.py (line 556):     INFO: Merging extension sto file (/tmp/sepp/output.c8pwe7do/root/P_13/A_13_0/FC_13_0_0/hmmalign.results.k9b6q1im) into base alignment (/tmp/sepp/output.c8pwe7do/root/P_13/A_13_0/hmmbuild.input.0imoikaf.fasta).\n",
      "[17:59:02] jobs.py (line 131):     INFO: Finished hmmalign Job with input: model:/tmp/sepp/output.c8pwe7do/root/P_14/A_14_0/hmmbuild.model.nkh6eeth, fragments:/tmp/sepp/output.c8pwe7do/root/P_14/A_14_0/FC_14_0_0/hmmalign.frag.wk91q5tx.fasta, trim:False, base_alignment:/tmp/sepp/output.c8pwe7do/root/P_14/A_14_0/hmmbuild.input._9i48i8j.fasta\n",
      "[17:59:02] exhaustive.py (line 151):     INFO: Merging sub-alignments for placement problem : P_14.\n",
      "[17:59:02] alignment.py (line 556):     INFO: Merging extension sto file (/tmp/sepp/output.c8pwe7do/root/P_14/A_14_0/FC_14_0_0/hmmalign.results.3hyxit1d) into base alignment (/tmp/sepp/output.c8pwe7do/root/P_14/A_14_0/hmmbuild.input._9i48i8j.fasta).\n",
      "[17:59:02] exhaustive.py (line 151):     INFO: Merging sub-alignments for placement problem : P_15.\n",
      "multiprocessing.pool.RemoteTraceback: \n",
      "\"\"\"\n",
      "Traceback (most recent call last):\n",
      "  File \"/home/akohli/miniconda3/envs/qiime2-2023.2/lib/python3.8/multiprocessing/pool.py\", line 125, in worker\n",
      "    result = (True, func(*args, **kwds))\n",
      "  File \"/home/akohli/miniconda3/envs/qiime2-2023.2/lib/python3.8/site-packages/sepp/scheduler.py\", line 74, in __call__\n",
      "    return self.run()\n",
      "  File \"/home/akohli/miniconda3/envs/qiime2-2023.2/lib/python3.8/site-packages/sepp/jobs.py\", line 150, in run\n",
      "    raise JobError(\"\\n\".join([\n",
      "sepp.scheduler.JobError: The following execution failed:\n",
      "/home/akohli/miniconda3/envs/qiime2-2023.2/bin/pplacer --out-dir /tmp/sepp/output.c8pwe7do/root/P_1 -j 1 -r /tmp/sepp/output.c8pwe7do/root/P_1/pplacer.backbone.zxiywjck.fasta -s /home/akohli/miniconda3/envs/qiime2-2023.2/lib/python3.8/site-packages/picrust2/default_files/prokaryotic/pro_ref/pro_ref.raxml_info -t /tmp/sepp/output.c8pwe7do/root/P_1/pplacer.tree.5ipssik8.tre --groups 10 /tmp/sepp/output.c8pwe7do/root/P_1/pplacer.extended.0.nxexw_uu.fasta\n",
      "No error messages available\n",
      "\"\"\"\n",
      "\n",
      "The above exception was the direct cause of the following exception:\n",
      "\n",
      "Traceback (most recent call last):\n",
      "  File \"/home/akohli/miniconda3/envs/qiime2-2023.2/bin/run_sepp.py\", line 26, in <module>\n",
      "    ExhaustiveAlgorithm().run()\n",
      "  File \"/home/akohli/miniconda3/envs/qiime2-2023.2/lib/python3.8/site-packages/sepp/algorithm.py\", line 174, in run\n",
      "    if (not JobPool().wait_for_all_jobs()):\n",
      "  File \"/home/akohli/miniconda3/envs/qiime2-2023.2/lib/python3.8/site-packages/sepp/scheduler.py\", line 382, in wait_for_all_jobs\n",
      "    result.get()\n",
      "  File \"/home/akohli/miniconda3/envs/qiime2-2023.2/lib/python3.8/multiprocessing/pool.py\", line 771, in get\n",
      "    raise self._value\n",
      "sepp.scheduler.JobError: The following execution failed:\n",
      "/home/akohli/miniconda3/envs/qiime2-2023.2/bin/pplacer --out-dir /tmp/sepp/output.c8pwe7do/root/P_1 -j 1 -r /tmp/sepp/output.c8pwe7do/root/P_1/pplacer.backbone.zxiywjck.fasta -s /home/akohli/miniconda3/envs/qiime2-2023.2/lib/python3.8/site-packages/picrust2/default_files/prokaryotic/pro_ref/pro_ref.raxml_info -t /tmp/sepp/output.c8pwe7do/root/P_1/pplacer.tree.5ipssik8.tre --groups 10 /tmp/sepp/output.c8pwe7do/root/P_1/pplacer.extended.0.nxexw_uu.fasta\n",
      "No error messages available\n",
      "\n",
      "\n",
      "\u001b[0m"
     ]
    }
   ],
   "source": [
    "!qiime picrust2 full-pipeline \\\n",
    "   --i-table space_table.qza \\\n",
    "   --i-seq space_paired.qza \\\n",
    "   --output-dir q2-picrust2_output \\\n",
    "   --p-placement-tool sepp \\\n",
    "   --p-threads 1 \\\n",
    "   --p-hsp-method pic \\\n",
    "   --p-max-nsti 2 \\\n",
    "   --verbose"
   ]
  },
  {
   "cell_type": "code",
   "execution_count": 21,
   "id": "efa2065a",
   "metadata": {},
   "outputs": [
    {
     "name": "stdout",
     "output_type": "stream",
     "text": [
      "\u001b[32mExported space_paired.qza as DNASequencesDirectoryFormat to directory .\u001b[0m\r\n",
      "\u001b[0m"
     ]
    }
   ],
   "source": [
    "!qiime tools export --input-path space_paired.qza --output-path ."
   ]
  }
 ],
 "metadata": {
  "kernelspec": {
   "display_name": "Python 3 (ipykernel)",
   "language": "python",
   "name": "python3"
  },
  "language_info": {
   "codemirror_mode": {
    "name": "ipython",
    "version": 3
   },
   "file_extension": ".py",
   "mimetype": "text/x-python",
   "name": "python",
   "nbconvert_exporter": "python",
   "pygments_lexer": "ipython3",
   "version": "3.8.15"
  }
 },
 "nbformat": 4,
 "nbformat_minor": 5
}
